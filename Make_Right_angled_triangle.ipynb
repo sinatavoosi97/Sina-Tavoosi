{
 "cells": [
  {
   "cell_type": "code",
   "execution_count": 1,
   "id": "8f7efd23",
   "metadata": {},
   "outputs": [
    {
     "name": "stdout",
     "output_type": "stream",
     "text": [
      ">\n",
      ">>>\n",
      ">>>>>\n",
      ">>>>>>>\n",
      ">>>>>>>>>\n",
      ">>>>>>>>>>>\n",
      ">>>>>>>>>>>>>\n",
      ">>>>>>>>>>>>>>>\n",
      ">>>>>>>>>>>>>>>>>\n",
      "\n"
     ]
    }
   ],
   "source": [
    "#           .(while)برنامه ساخت مثلث  قائم الزاویه با استفاده از حلقه \n",
    "\n",
    "def make_line(length,character):\n",
    "    message=\"\"\n",
    "    i=0\n",
    "    while i<length:\n",
    "        message+=character\n",
    "        i+=1  \n",
    "    return  message\n",
    "\n",
    "def make_new_line():\n",
    "    return \"\\n\"\n",
    "\n",
    "def make_Right_angled_triangle(length,character):\n",
    "    i=0\n",
    "    message=\"\"\n",
    "    while i< length:\n",
    "        message+=make_line(((2*i)+1),character)\n",
    "        message+=make_new_line()\n",
    "        i+=1\n",
    "    return message\n",
    "\n",
    "print(make_Right_angled_triangle(9,\">\"))\n",
    "\n"
   ]
  },
  {
   "cell_type": "code",
   "execution_count": null,
   "id": "0b15ebb6",
   "metadata": {},
   "outputs": [],
   "source": []
  }
 ],
 "metadata": {
  "kernelspec": {
   "display_name": "Python 3 (ipykernel)",
   "language": "python",
   "name": "python3"
  },
  "language_info": {
   "codemirror_mode": {
    "name": "ipython",
    "version": 3
   },
   "file_extension": ".py",
   "mimetype": "text/x-python",
   "name": "python",
   "nbconvert_exporter": "python",
   "pygments_lexer": "ipython3",
   "version": "3.9.12"
  }
 },
 "nbformat": 4,
 "nbformat_minor": 5
}
