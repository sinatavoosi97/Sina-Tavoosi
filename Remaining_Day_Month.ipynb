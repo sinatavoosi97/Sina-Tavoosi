{
 "cells": [
  {
   "cell_type": "code",
   "execution_count": 1,
   "id": "d69d320c",
   "metadata": {},
   "outputs": [
    {
     "name": "stdout",
     "output_type": "stream",
     "text": [
      "please  enter days passed :229\n",
      "\n",
      "🍂🍁🍂🍁🍂🍁🍂🍁🍂🍁🍂🍁🍂🍁🍂🍁🍂🍁🍂🍁🍂🍁🍂🍁🍂🍁🍂🍁🍂🍁🍂🍁🍂🍁🍂🍁🍂🍁🍂🍁🍂🍁🍂🍁🍂🍁🍂🍁🍂🍁🍂🍁🍂🍁\n",
      "\n",
      " Month passed : 7\n",
      " days passed : 19\n",
      " Season : Autumn\n"
     ]
    }
   ],
   "source": [
    "\n",
    "\n",
    "#==================Processing on days passed with the aim of calculating months and remaining days==========\n",
    "\n",
    "def calaculat_Month():\n",
    "\n",
    "    day=int(input(\"please  enter days passed :\"))\n",
    "    \n",
    "    message=(\"\\n\")\n",
    "    \n",
    "    message+=Theme(day)\n",
    "\n",
    "    if 1<=day<=186:\n",
    "        number=31\n",
    "    else:\n",
    "        number=30\n",
    "    \n",
    "    Month1=day//number\n",
    "    \n",
    "    day1=day%number\n",
    "\n",
    "    message+=(f\" Month passed : {Month1}\\n days passed : {day1}\\n Season : {calculate_Season(day)}\")\n",
    "    \n",
    "    return message\n",
    "\n",
    "# =================this function decorates terminal with season theme ===================================================\n",
    "\n",
    "def Theme(day):\n",
    "    if 0<=day<=93:\n",
    "        text=(27*\"🌸🍀\"+ 2* \"\\n\")\n",
    "        \n",
    "    elif 94<=day<=187:\n",
    "        text=(54*\"🌿\"+ 2* \"\\n\")\n",
    "        \n",
    "    elif 188<=day<=278:\n",
    "        text=(27*\"🍂🍁\"+ 2* \"\\n\")\n",
    "    else:\n",
    "        text=(27*\"❄️☃️\"+ 2* \"\\n\")\n",
    "        \n",
    "    return text\n",
    "\n",
    "#===========================This function calculateS season by days passed===============================================\n",
    "\n",
    "def calculate_Season(day):\n",
    "    if 0<=day<=93:\n",
    "       season =\"Spring\"\n",
    "        \n",
    "    elif 94<=day<=187:\n",
    "        season=\"Summer\"\n",
    "        \n",
    "    elif 188<=day<=278:\n",
    "        season=\"Autumn\"\n",
    "    else:\n",
    "        season=\"Winter\"\n",
    "        \n",
    "    return season\n",
    "    \n",
    "\n",
    "print(calaculat_Month())\n",
    "\n"
   ]
  },
  {
   "cell_type": "code",
   "execution_count": null,
   "id": "8d1048ef",
   "metadata": {},
   "outputs": [],
   "source": []
  }
 ],
 "metadata": {
  "kernelspec": {
   "display_name": "Python 3 (ipykernel)",
   "language": "python",
   "name": "python3"
  },
  "language_info": {
   "codemirror_mode": {
    "name": "ipython",
    "version": 3
   },
   "file_extension": ".py",
   "mimetype": "text/x-python",
   "name": "python",
   "nbconvert_exporter": "python",
   "pygments_lexer": "ipython3",
   "version": "3.9.12"
  }
 },
 "nbformat": 4,
 "nbformat_minor": 5
}
