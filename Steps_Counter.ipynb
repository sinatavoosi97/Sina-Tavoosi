{
 "cells": [
  {
   "cell_type": "code",
   "execution_count": 1,
   "id": "bff9ea9e",
   "metadata": {},
   "outputs": [
    {
     "name": "stdout",
     "output_type": "stream",
     "text": [
      "please enter a number that you want to start with  :20\n",
      "please enter a number that you want to stop with  :2\n",
      "please enter a number that is step  :1\n",
      "    Numbers\n",
      "0        20\n",
      "1        19\n",
      "2        18\n",
      "3        17\n",
      "4        16\n",
      "5        15\n",
      "6        14\n",
      "7        13\n",
      "8        12\n",
      "9        11\n",
      "10       10\n",
      "11        9\n",
      "12        8\n",
      "13        7\n",
      "14        6\n",
      "15        5\n",
      "16        4\n",
      "17        3\n"
     ]
    }
   ],
   "source": [
    "#           .این برنامه برای گام های منفی نیز صادق است که مثالی از گام منفی در پایین حل شده است\n",
    "\n",
    "import pandas as pd\n",
    "\n",
    "def Counter(Start,Stop,Step):\n",
    "    numbers=[]\n",
    "#========================checking the step with the goal of it is negative or positive.=======================================     \n",
    "    if Start > Stop:\n",
    "        Step=-Step\n",
    "    else:\n",
    "        Step=Step\n",
    "        \n",
    "    for number in range(Start,Stop,Step):\n",
    "        numbers.append(number)\n",
    "    #==========================making a table showing datas better than past =========================\n",
    "    Datas={\"Numbers\":numbers}\n",
    "    Table=pd.DataFrame(Datas)\n",
    "    \n",
    "    return Table\n",
    "#=================================getting informations from user=======================================\n",
    "Start=int(input(\"please enter a number that you want to start with  :\"))\n",
    "Stop=int(input(\"please enter a number that you want to stop with  :\"))\n",
    "Step=int(input(\"please enter a number that is step  :\"))\n",
    "\n",
    "print(Counter(Start,Stop,Step))\n"
   ]
  },
  {
   "cell_type": "code",
   "execution_count": null,
   "id": "3870fbff",
   "metadata": {},
   "outputs": [],
   "source": []
  }
 ],
 "metadata": {
  "kernelspec": {
   "display_name": "Python 3 (ipykernel)",
   "language": "python",
   "name": "python3"
  },
  "language_info": {
   "codemirror_mode": {
    "name": "ipython",
    "version": 3
   },
   "file_extension": ".py",
   "mimetype": "text/x-python",
   "name": "python",
   "nbconvert_exporter": "python",
   "pygments_lexer": "ipython3",
   "version": "3.9.12"
  }
 },
 "nbformat": 4,
 "nbformat_minor": 5
}
