{
 "cells": [
  {
   "cell_type": "code",
   "execution_count": 25,
   "metadata": {},
   "outputs": [
    {
     "name": "stdout",
     "output_type": "stream",
     "text": [
      "My first name is :\t Sina\n",
      "My last name is :\t Tavoosi\n",
      "My city name is :\t Shiraz\n",
      "My education is :\t Civil engineering\n"
     ]
    }
   ],
   "source": [
    "# ------------------------------------------------defining variables------------------------------------------------------------------------------------\n",
    "\n",
    "firstName=\"Sina\"\n",
    "lastName=\"Tavoosi\"\n",
    "education=\"Civil engineering\"\n",
    "city=\"Shiraz\"\n",
    "\n",
    "#--------------------------------------------------  making a string ----------------------------------------------------------------------------------------------------\n",
    "\n",
    "message=(\"My first name is :\\t \"+ firstName+\"\\n\"+ \"My last name is :\\t \"+ lastName +\"\\n\"+ \"My city name is :\\t \"+ city +\"\\n\"+ \"My education is :\\t \"+ education)\n",
    "\n",
    "#------------------------------------------------showing my personalinformations------------------------------------------------------------------------------\n",
    "\n",
    "print(message)  \n",
    "\n"
   ]
  },
  {
   "cell_type": "code",
   "execution_count": 2,
   "metadata": {},
   "outputs": [
    {
     "name": "stdout",
     "output_type": "stream",
     "text": [
      "My Name is Sina Tavoosi and I studied in civil engineering  major ;inaddition, I live in Shiraz\n"
     ]
    }
   ],
   "source": [
    "#---------------------------------------------------making a string -----------------------------------------------------\n",
    "\n",
    "message=\"My Name is Sina Tavoosi and I studied in civil engineering  major ;inaddition, I live in Shiraz\"\n",
    "\n",
    "#--------------------------------------------------showing personalinformations---------------------------------------------\n",
    "\n",
    "print(message)  "
   ]
  },
  {
   "cell_type": "code",
   "execution_count": 3,
   "metadata": {},
   "outputs": [
    {
     "name": "stdout",
     "output_type": "stream",
     "text": [
      "My Name is Sina Tavoosi and I studied in Civil engineering major ;inaddition, I live in Shiraz\n"
     ]
    }
   ],
   "source": [
    "\n",
    "# -----------------------------------------------defining a dictionary with my personal informations-----------------------------------------------------------------------------------------------------------------\n",
    "\n",
    "personalInformation={\"firstName\":\"Sina\",\n",
    "                     \"lastName\":\"Tavoosi\",\n",
    "                     \"education\":\"Civil engineering\",\n",
    "                     \"city\":\"Shiraz\"\n",
    "}  \n",
    "#------------------------------------------------- making a string ----------------------------------------------------------------------------------------------------------------------------------------------------\n",
    "\n",
    "message=(\"My Name is {} {} and I studied in {} major ;inaddition, I live in {}\".format(personalInformation[\"firstName\"],personalInformation[\"lastName\"],personalInformation[\"education\"],personalInformation[\"city\"]))\n",
    "\n",
    "#--------------------------------------------------showing my personalinformations------------------------------------------------------------------------------------------------------------------------------------------\n",
    "\n",
    "print(message)  \n"
   ]
  },
  {
   "cell_type": "code",
   "execution_count": 4,
   "metadata": {},
   "outputs": [
    {
     "name": "stdout",
     "output_type": "stream",
     "text": [
      "Sina\n",
      "Tavoosi\n",
      "Shiraz\n",
      "Civil engineering\n",
      "\n"
     ]
    }
   ],
   "source": [
    "\n",
    "#-------------------------------------------------defining a list with my personal information------------------------------------------------------------------\n",
    "\n",
    "personalInformation=[\"Sina\",\"Tavoosi\",\"Shiraz\",\"Civil engineering\"]\n",
    "\n",
    "#---------------------------------------------------creating a loop with the aim of making a string-------------------------------------------------------------\n",
    "\n",
    "message=\"\"\n",
    "for item in personalInformation:\n",
    "    \n",
    "    message+=item \n",
    "    message+=\"\\n\" # new line\n",
    "#------------------------------------------------------- showing my personalinformations--------------------------------------------------------------------------------   \n",
    "    \n",
    "print(message) "
   ]
  },
  {
   "cell_type": "code",
   "execution_count": 19,
   "metadata": {},
   "outputs": [
    {
     "name": "stdout",
     "output_type": "stream",
     "text": [
      "First name :\t Sina \n",
      "Last name :\t Tavoosi \n",
      "City name :\t Shiraz\n",
      "Education :\t Student of structural engineering\n"
     ]
    }
   ],
   "source": [
    "print(\"First name :\\t Sina \\nLast name :\\t Tavoosi \\nCity name :\\t Shiraz\\nEducation :\\t Student of structural engineering\")  # showing my personalinformations"
   ]
  },
  {
   "cell_type": "code",
   "execution_count": 21,
   "metadata": {},
   "outputs": [
    {
     "name": "stdout",
     "output_type": "stream",
     "text": [
      "First name :\t Sina\n",
      "Last name :\t Tavoosi\n",
      "City :\t\t Shiraz\n",
      "Education :\t Student of structural engineering\n",
      "\n"
     ]
    }
   ],
   "source": [
    "\n",
    "#---------------------------------------------------------- showing my personalinformations-------------------------------------\n",
    "\n",
    "print('''First name :\\t Sina\n",
    "Last name :\\t Tavoosi\n",
    "City :\\t\\t Shiraz\n",
    "Education :\\t Student of structural engineering\n",
    "''')"
   ]
  },
  {
   "cell_type": "code",
   "execution_count": 10,
   "metadata": {},
   "outputs": [
    {
     "name": "stdout",
     "output_type": "stream",
     "text": [
      "please enter your first name  :Sina\n",
      "please enter your last Name  :Tavoosi\n",
      "please enter your city Name  : Shiraz\n",
      "please enter your education  : Student of structural engineering\n"
     ]
    }
   ],
   "source": [
    "#------------------------------------------------getting personal informations------------------------------------------------\n",
    "\n",
    "firstName1=input(\"please enter your first name  :\")\n",
    "\n",
    "lastName1=input(\"please enter your last Name  :\")\n",
    "\n",
    "cityName1=input(\"please enter your city Name  : \")\n",
    "\n",
    "education1=input(\"please enter your education  : \")\n"
   ]
  },
  {
   "cell_type": "code",
   "execution_count": 17,
   "metadata": {},
   "outputs": [
    {
     "name": "stdout",
     "output_type": "stream",
     "text": [
      "First name :\t Sina \n",
      "Last name :\t Tavoosi \n",
      "City name :\t Shiraz\n",
      "Education :\tStudent of structural engineering\n"
     ]
    }
   ],
   "source": [
    "#---------------------------------------------making a string-----------------------------------------------------------------\n",
    "\n",
    "message1=(f\"First name :\\t {firstName1} \\nLast name :\\t {lastName1} \\nCity name :\\t {cityName1}\\nEducation :\\t{education1}\")\n",
    "\n",
    "#----------------------------------------------showing personal informations--------------------------------------------------\n",
    "\n",
    "print(message1)"
   ]
  },
  {
   "cell_type": "code",
   "execution_count": null,
   "metadata": {},
   "outputs": [],
   "source": []
  }
 ],
 "metadata": {
  "kernelspec": {
   "display_name": "Python 3 (ipykernel)",
   "language": "python",
   "name": "python3"
  },
  "language_info": {
   "codemirror_mode": {
    "name": "ipython",
    "version": 3
   },
   "file_extension": ".py",
   "mimetype": "text/x-python",
   "name": "python",
   "nbconvert_exporter": "python",
   "pygments_lexer": "ipython3",
   "version": "3.9.12"
  }
 },
 "nbformat": 4,
 "nbformat_minor": 4
}
